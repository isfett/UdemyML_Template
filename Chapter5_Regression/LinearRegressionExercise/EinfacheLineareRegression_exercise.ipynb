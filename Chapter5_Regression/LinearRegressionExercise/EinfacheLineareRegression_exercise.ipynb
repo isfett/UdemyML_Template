{
 "cells": [
  {
   "cell_type": "code",
   "execution_count": 100,
   "metadata": {
    "pycharm": {
     "name": "#%%\n"
    }
   },
   "outputs": [],
   "source": [
    "import numpy as np\n",
    "np.random.seed(42)"
   ]
  },
  {
   "cell_type": "code",
   "execution_count": 101,
   "metadata": {
    "pycharm": {
     "name": "#%%\n"
    }
   },
   "outputs": [],
   "source": [
    "from typing import List\n",
    "from typing import Tuple\n",
    "\n",
    "import pandas as pd\n",
    "from sklearn.datasets import load_boston\n",
    "from sklearn.model_selection import train_test_split\n",
    "from sklearn.linear_model import LinearRegression"
   ]
  },
  {
   "cell_type": "code",
   "execution_count": 102,
   "metadata": {
    "pycharm": {
     "name": "#%%\n"
    }
   },
   "outputs": [
    {
     "name": "stderr",
     "output_type": "stream",
     "text": [
      "/Users/chris/.conda/envs/UdemyML_Template/lib/python3.10/site-packages/sklearn/utils/deprecation.py:87: FutureWarning: Function load_boston is deprecated; `load_boston` is deprecated in 1.0 and will be removed in 1.2.\n",
      "\n",
      "    The Boston housing prices dataset has an ethical problem. You can refer to\n",
      "    the documentation of this function for further details.\n",
      "\n",
      "    The scikit-learn maintainers therefore strongly discourage the use of this\n",
      "    dataset unless the purpose of the code is to study and educate about\n",
      "    ethical issues in data science and machine learning.\n",
      "\n",
      "    In this special case, you can fetch the dataset from the original\n",
      "    source::\n",
      "\n",
      "        import pandas as pd\n",
      "        import numpy as np\n",
      "\n",
      "\n",
      "        data_url = \"http://lib.stat.cmu.edu/datasets/boston\"\n",
      "        raw_df = pd.read_csv(data_url, sep=\"\\s+\", skiprows=22, header=None)\n",
      "        data = np.hstack([raw_df.values[::2, :], raw_df.values[1::2, :2]])\n",
      "        target = raw_df.values[1::2, 2]\n",
      "\n",
      "    Alternative datasets include the California housing dataset (i.e.\n",
      "    :func:`~sklearn.datasets.fetch_california_housing`) and the Ames housing\n",
      "    dataset. You can load the datasets as follows::\n",
      "\n",
      "        from sklearn.datasets import fetch_california_housing\n",
      "        housing = fetch_california_housing()\n",
      "\n",
      "    for the California housing dataset and::\n",
      "\n",
      "        from sklearn.datasets import fetch_openml\n",
      "        housing = fetch_openml(name=\"house_prices\", as_frame=True)\n",
      "\n",
      "    for the Ames housing dataset.\n",
      "    \n",
      "  warnings.warn(msg, category=FutureWarning)\n"
     ]
    }
   ],
   "source": [
    "dataset = load_boston()\n",
    "df = pd.DataFrame(dataset.data, columns=dataset.feature_names)"
   ]
  },
  {
   "cell_type": "code",
   "execution_count": 103,
   "metadata": {
    "pycharm": {
     "name": "#%%\n"
    }
   },
   "outputs": [
    {
     "name": "stdout",
     "output_type": "stream",
     "text": [
      "['CRIM', 'ZN', 'INDUS', 'CHAS', 'NOX', 'RM', 'AGE', 'DIS', 'RAD', 'TAX', 'PTRATIO', 'B', 'LSTAT']\n",
      "Num features:  13\n",
      ".. _boston_dataset:\n",
      "\n",
      "Boston house prices dataset\n",
      "---------------------------\n",
      "\n",
      "**Data Set Characteristics:**  \n",
      "\n",
      "    :Number of Instances: 506 \n",
      "\n",
      "    :Number of Attributes: 13 numeric/categorical predictive. Median Value (attribute 14) is usually the target.\n",
      "\n",
      "    :Attribute Information (in order):\n",
      "        - CRIM     per capita crime rate by town\n",
      "        - ZN       proportion of residential land zoned for lots over 25,000 sq.ft.\n",
      "        - INDUS    proportion of non-retail business acres per town\n",
      "        - CHAS     Charles River dummy variable (= 1 if tract bounds river; 0 otherwise)\n",
      "        - NOX      nitric oxides concentration (parts per 10 million)\n",
      "        - RM       average number of rooms per dwelling\n",
      "        - AGE      proportion of owner-occupied units built prior to 1940\n",
      "        - DIS      weighted distances to five Boston employment centres\n",
      "        - RAD      index of accessibility to radial highways\n",
      "        - TAX      full-value property-tax rate per $10,000\n",
      "        - PTRATIO  pupil-teacher ratio by town\n",
      "        - B        1000(Bk - 0.63)^2 where Bk is the proportion of black people by town\n",
      "        - LSTAT    % lower status of the population\n",
      "        - MEDV     Median value of owner-occupied homes in $1000's\n",
      "\n",
      "    :Missing Attribute Values: None\n",
      "\n",
      "    :Creator: Harrison, D. and Rubinfeld, D.L.\n",
      "\n",
      "This is a copy of UCI ML housing dataset.\n",
      "https://archive.ics.uci.edu/ml/machine-learning-databases/housing/\n",
      "\n",
      "\n",
      "This dataset was taken from the StatLib library which is maintained at Carnegie Mellon University.\n",
      "\n",
      "The Boston house-price data of Harrison, D. and Rubinfeld, D.L. 'Hedonic\n",
      "prices and the demand for clean air', J. Environ. Economics & Management,\n",
      "vol.5, 81-102, 1978.   Used in Belsley, Kuh & Welsch, 'Regression diagnostics\n",
      "...', Wiley, 1980.   N.B. Various transformations are used in the table on\n",
      "pages 244-261 of the latter.\n",
      "\n",
      "The Boston house-price data has been used in many machine learning papers that address regression\n",
      "problems.   \n",
      "     \n",
      ".. topic:: References\n",
      "\n",
      "   - Belsley, Kuh & Welsch, 'Regression diagnostics: Identifying Influential Data and Sources of Collinearity', Wiley, 1980. 244-261.\n",
      "   - Quinlan,R. (1993). Combining Instance-Based and Model-Based Learning. In Proceedings on the Tenth International Conference of Machine Learning, 236-243, University of Massachusetts, Amherst. Morgan Kaufmann.\n",
      "\n"
     ]
    }
   ],
   "source": [
    "all_features = df.columns.values.tolist()\n",
    "num_features_total = len(all_features)\n",
    "print(all_features)\n",
    "print(\"Num features: \", num_features_total)\n",
    "print(dataset.DESCR)"
   ]
  },
  {
   "cell_type": "code",
   "execution_count": 104,
   "metadata": {
    "pycharm": {
     "name": "#%%\n"
    }
   },
   "outputs": [],
   "source": [
    "x = dataset['data']\n",
    "y = dataset['target']"
   ]
  },
  {
   "cell_type": "code",
   "execution_count": 105,
   "metadata": {
    "pycharm": {
     "name": "#%%\n"
    }
   },
   "outputs": [
    {
     "name": "stdout",
     "output_type": "stream",
     "text": [
      "(506, 13)\n",
      "(506,)\n"
     ]
    }
   ],
   "source": [
    "print(x.shape)\n",
    "print(y.shape)"
   ]
  },
  {
   "cell_type": "markdown",
   "metadata": {
    "pycharm": {
     "name": "#%% md\n"
    }
   },
   "source": [
    "# Exercise 1\n",
    "\n",
    "\n",
    "<font size=\"5\">\n",
    "Test the model performance for a subset of the given dataset where you only use one feature (hence not all 13 features ;)\n",
    "</font> "
   ]
  },
  {
   "cell_type": "code",
   "execution_count": 106,
   "metadata": {
    "pycharm": {
     "name": "#%%\n"
    }
   },
   "outputs": [
    {
     "name": "stdout",
     "output_type": "stream",
     "text": [
      "Feature: 0, Score: 0.1381400841713265\n",
      "Feature: 1, Score: 0.15638621004081643\n",
      "Feature: 2, Score: 0.11502275985265009\n",
      "Feature: 3, Score: 0.015996439988834488\n",
      "Feature: 4, Score: 0.21437745037434752\n",
      "Feature: 5, Score: 0.4793882936184912\n",
      "Feature: 6, Score: 0.24755265367990642\n",
      "Feature: 7, Score: -0.03743139263865247\n",
      "Feature: 8, Score: 0.08176044033536023\n",
      "Feature: 9, Score: 0.2948573932208305\n",
      "Feature: 10, Score: 0.24113282841490136\n",
      "Feature: 11, Score: 0.1126411704301381\n",
      "Feature: 12, Score: 0.5380052327556762\n"
     ]
    }
   ],
   "source": [
    "scores: List[float] = []\n",
    "\n",
    "for i in range(num_features_total):\n",
    "    x_for_feature = x[:, [i]]\n",
    "\n",
    "    x_train, x_test, y_train, y_test = train_test_split(x_for_feature, y, test_size=0.3)\n",
    "\n",
    "    regr = LinearRegression()\n",
    "    regr.fit(x_train, y_train)\n",
    "\n",
    "    score = regr.score(x_test, y_test)\n",
    "    scores.append(score)\n",
    "\n",
    "    print(f\"Feature: {i}, Score: {score}\")\n"
   ]
  },
  {
   "cell_type": "markdown",
   "metadata": {
    "pycharm": {
     "name": "#%% md\n"
    }
   },
   "source": [
    "# Exercise 2\n",
    "\n",
    "<font size=\"5\">\n",
    "Plot the standard deviation, and variance of each feature.\n",
    "Do these values correlate to the performance differences from exercise 1?\n",
    "</font> "
   ]
  },
  {
   "cell_type": "code",
   "execution_count": 107,
   "metadata": {
    "pycharm": {
     "name": "#%%\n"
    }
   },
   "outputs": [
    {
     "name": "stdout",
     "output_type": "stream",
     "text": [
      "Feature: 0, Score: 0.1381400841713265, Standard-Deviation: 8.59304135129577, Variance: 73.84035966507905\n",
      "Feature: 1, Score: 0.15638621004081643, Standard-Deviation: 23.29939569476613, Variance: 542.8618397412864\n",
      "Feature: 2, Score: 0.11502275985265009, Standard-Deviation: 6.853570583390874, Variance: 46.97142974152072\n",
      "Feature: 3, Score: 0.015996439988834488, Standard-Deviation: 0.2537429349603471, Variance: 0.06438547704229093\n",
      "Feature: 4, Score: 0.21437745037434752, Standard-Deviation: 0.11576311540656137, Variance: 0.013401098888632846\n",
      "Feature: 5, Score: 0.4793882936184912, Standard-Deviation: 0.7019225143345689, Variance: 0.49269521612976297\n",
      "Feature: 6, Score: 0.24755265367990642, Standard-Deviation: 28.121032570236867, Variance: 790.7924728163227\n",
      "Feature: 7, Score: -0.03743139263865247, Standard-Deviation: 2.1036283563444593, Variance: 4.425252261616491\n",
      "Feature: 8, Score: 0.08176044033536023, Standard-Deviation: 8.698651117790636, Variance: 75.66653126904029\n",
      "Feature: 9, Score: 0.2948573932208305, Standard-Deviation: 168.37049503938118, Variance: 28348.62359980628\n",
      "Feature: 10, Score: 0.24113282841490136, Standard-Deviation: 2.1628051914821365, Variance: 4.677726296302081\n",
      "Feature: 11, Score: 0.1126411704301381, Standard-Deviation: 91.20460745217277, Variance: 8318.280420504929\n",
      "Feature: 12, Score: 0.5380052327556762, Standard-Deviation: 7.134001636650485, Variance: 50.893979351731794\n"
     ]
    }
   ],
   "source": [
    "for i, score in enumerate(scores):\n",
    "    x_for_feature = x[:, [i]]\n",
    "    standard_deviation = np.std(x_for_feature)\n",
    "    variance = np.var(x_for_feature)\n",
    "\n",
    "    print(f\"Feature: {i}, Score: {score}, Standard-Deviation: {standard_deviation}, Variance: {variance}\")"
   ]
  }
 ],
 "metadata": {
  "kernelspec": {
   "display_name": "Python 3",
   "language": "python",
   "name": "python3"
  },
  "language_info": {
   "codemirror_mode": {
    "name": "ipython",
    "version": 3
   },
   "file_extension": ".py",
   "mimetype": "text/x-python",
   "name": "python",
   "nbconvert_exporter": "python",
   "pygments_lexer": "ipython3",
   "version": "3.8.8"
  }
 },
 "nbformat": 4,
 "nbformat_minor": 2
}