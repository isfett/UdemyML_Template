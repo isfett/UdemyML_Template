{
 "cells": [
  {
   "cell_type": "code",
   "execution_count": 64,
   "metadata": {
    "pycharm": {
     "name": "#%%\n"
    }
   },
   "outputs": [],
   "source": [
    "import numpy as np\n",
    "np.random.seed(42)"
   ]
  },
  {
   "cell_type": "code",
   "execution_count": 65,
   "metadata": {
    "pycharm": {
     "name": "#%%\n"
    }
   },
   "outputs": [],
   "source": [
    "from sklearn.datasets import load_boston\n",
    "from sklearn.model_selection import train_test_split\n",
    "from sklearn.metrics import r2_score\n",
    "import matplotlib.pyplot as plt"
   ]
  },
  {
   "cell_type": "code",
   "execution_count": 66,
   "metadata": {
    "pycharm": {
     "name": "#%%\n"
    }
   },
   "outputs": [
    {
     "name": "stderr",
     "output_type": "stream",
     "text": [
      "/Users/chris/.conda/envs/UdemyML_Template/lib/python3.10/site-packages/sklearn/utils/deprecation.py:87: FutureWarning: Function load_boston is deprecated; `load_boston` is deprecated in 1.0 and will be removed in 1.2.\n",
      "\n",
      "    The Boston housing prices dataset has an ethical problem. You can refer to\n",
      "    the documentation of this function for further details.\n",
      "\n",
      "    The scikit-learn maintainers therefore strongly discourage the use of this\n",
      "    dataset unless the purpose of the code is to study and educate about\n",
      "    ethical issues in data science and machine learning.\n",
      "\n",
      "    In this special case, you can fetch the dataset from the original\n",
      "    source::\n",
      "\n",
      "        import pandas as pd\n",
      "        import numpy as np\n",
      "\n",
      "\n",
      "        data_url = \"http://lib.stat.cmu.edu/datasets/boston\"\n",
      "        raw_df = pd.read_csv(data_url, sep=\"\\s+\", skiprows=22, header=None)\n",
      "        data = np.hstack([raw_df.values[::2, :], raw_df.values[1::2, :2]])\n",
      "        target = raw_df.values[1::2, 2]\n",
      "\n",
      "    Alternative datasets include the California housing dataset (i.e.\n",
      "    :func:`~sklearn.datasets.fetch_california_housing`) and the Ames housing\n",
      "    dataset. You can load the datasets as follows::\n",
      "\n",
      "        from sklearn.datasets import fetch_california_housing\n",
      "        housing = fetch_california_housing()\n",
      "\n",
      "    for the California housing dataset and::\n",
      "\n",
      "        from sklearn.datasets import fetch_openml\n",
      "        housing = fetch_openml(name=\"house_prices\", as_frame=True)\n",
      "\n",
      "    for the Ames housing dataset.\n",
      "    \n",
      "  warnings.warn(msg, category=FutureWarning)\n"
     ]
    }
   ],
   "source": [
    "dataset = load_boston()"
   ]
  },
  {
   "cell_type": "markdown",
   "metadata": {
    "pycharm": {
     "name": "#%% md\n"
    }
   },
   "source": [
    "#### Einfache Lineare Regression\n",
    "\n",
    "## Bedeutung\n",
    "\n",
    "<font size=\"4\">\n",
    "\n",
    "- $R^2$: Wie viel Streuung kann von dem Regressionsmodell erklärt werden\n",
    "- coef: Steigung der Geraden\n",
    "- intercept: y-Achsenabschnitt\n",
    "\n",
    "</font>\n",
    "\n",
    "## Symbole\n",
    "\n",
    "<font size=\"4\">\n",
    "\n",
    "- $\\bar{x}$: Mittelwert von $x$\n",
    "- $\\bar{y}$: Mittelwert von $y$\n",
    "- $\\hat{y}$: Prediktion vom Modell\n",
    "\n",
    "</font>\n",
    "\n",
    "## Datensatz\n",
    "\n",
    "<font size=\"4\">\n",
    "\n",
    "- $m$: Anzahl an Samples\n",
    "- $n$: Anzahl an Features\n",
    "- $x$: Input-Daten (Features)\n",
    "- $y$: Output Daten (Targets)\n",
    "\n",
    "## Formeln\n",
    "\n",
    "<font size=\"4\">\n",
    "\n",
    "- $\\beta = (X^TX)^{-1}X^Ty$\n",
    "- coef = $\\beta$\\[1:\\]\n",
    "- intercept = $\\beta$\\[0\\]\n",
    "- $\\hat{y} = X\\beta$\n",
    "- $R^2 = 1 - \\frac{\\sum_{i=1}^n(y_i-\\hat{y})^2}{\\sum_{i=1}^n(y_i-\\bar{y})^2}$\n",
    "\n",
    "</font>"
   ]
  },
  {
   "cell_type": "code",
   "execution_count": 67,
   "outputs": [],
   "source": [
    "class LinearRegression:\n",
    "    def __init__(self, use_intercept: bool = True) -> None:\n",
    "        self.coef_: np.ndarray = None\n",
    "        self.intercept_: np.ndarray = None\n",
    "        self.use_intercept = use_intercept\n",
    "\n",
    "    def _add_intercept(self, x: np.ndarray) -> np.ndarray:\n",
    "        intercepts = np.ones(shape=(x.shape[0])) # (N, 1) -> (N, 2)\n",
    "        x = np.column_stack((intercepts, x))\n",
    "        return x\n",
    "\n",
    "    def fit(self, x: np.ndarray, y: np.ndarray) -> None:\n",
    "        if self.use_intercept:\n",
    "            x = self._add_intercept(x)\n",
    "        inner = np.dot(x.T, x)\n",
    "        inv = np.linalg.inv(inner)\n",
    "        beta = np.dot(np.dot(inv, x.T), y)\n",
    "        self.intercept_ = beta[0]\n",
    "        self.coef_ = beta[1:]\n",
    "\n",
    "    def predict(self, x: np.ndarray) -> np.ndarray:\n",
    "        y_pred = np.array([np.dot(self.coef_.T, x[i]) + self.intercept_ for i in range(len(x))]) # für ein oder mehrdimensionale features\n",
    "        y_pred = np.array([self.coef_ * x[i] + self.intercept_ for i in range(len(x))]) # nur für eindimensionale features\n",
    "        y_pred =self.coef_ * x + self.intercept_ # vereinfachte schreibweise\n",
    "        return y_pred\n",
    "\n",
    "    def score(self, x: np.ndarray, y: np.ndarray):\n",
    "        y_pred = self.predict(x)\n",
    "        y_mean = np.mean(y, axis=0)\n",
    "        numerator = np.sum((y - y_pred) ** 2)\n",
    "        denominator = np.sum((y - y_mean) ** 2)\n",
    "        r2_score = 1.0 - (numerator / denominator)\n",
    "        return r2_score"
   ],
   "metadata": {
    "collapsed": false,
    "pycharm": {
     "name": "#%%\n"
    }
   }
  },
  {
   "cell_type": "code",
   "execution_count": 68,
   "outputs": [],
   "source": [
    "x = dataset.data[:, 5]\n",
    "y = dataset.target\n",
    "\n",
    "x_train, x_test, y_train, y_test = train_test_split(x, y, test_size=0.3)"
   ],
   "metadata": {
    "collapsed": false,
    "pycharm": {
     "name": "#%%\n"
    }
   }
  },
  {
   "cell_type": "code",
   "execution_count": 69,
   "outputs": [
    {
     "name": "stdout",
     "output_type": "stream",
     "text": [
      "Coef: [9.1181022]\n",
      "Intercept: -34.66230743840718\n",
      "R2_own: 0.45846499343030755\n",
      "R2_sklearn: 0.45846499343030755\n"
     ]
    }
   ],
   "source": [
    "regr = LinearRegression()\n",
    "regr.fit(x_train, y_train)\n",
    "r2_own = regr.score(x_test, y_test)\n",
    "\n",
    "y_pred = regr.predict(x_test)\n",
    "r2_sklearn = r2_score(y_test, y_pred)\n",
    "\n",
    "print(f\"Coef: {regr.coef_}\")\n",
    "print(f\"Intercept: {regr.intercept_}\")\n",
    "print(f\"R2_own: {r2_own}\")\n",
    "print(f\"R2_sklearn: {r2_sklearn}\")"
   ],
   "metadata": {
    "collapsed": false,
    "pycharm": {
     "name": "#%%\n"
    }
   }
  },
  {
   "cell_type": "code",
   "execution_count": 70,
   "outputs": [],
   "source": [
    "def plot_regressor(regr: LinearRegression, x: np.ndarray, y: np.ndarray) -> None:\n",
    "    x_arange = np.arange(start=3.0, stop=10.0, step=0.05)\n",
    "    y_arange = regr.predict(x_arange)\n",
    "\n",
    "    plt.scatter(x, y)\n",
    "    plt.plot(x_arange, y_arange, color=\"red\")\n",
    "    plt.show()"
   ],
   "metadata": {
    "collapsed": false,
    "pycharm": {
     "name": "#%%\n"
    }
   }
  },
  {
   "cell_type": "code",
   "execution_count": 71,
   "outputs": [
    {
     "data": {
      "text/plain": "<Figure size 432x288 with 1 Axes>",
      "image/png": "[encoded data removed]"
     },
     "metadata": {
      "needs_background": "light"
     },
     "output_type": "display_data"
    }
   ],
   "source": [
    "plot_regressor(regr, x_test, y_test)"
   ],
   "metadata": {
    "collapsed": false,
    "pycharm": {
     "name": "#%%\n"
    }
   }
  },
  {
   "cell_type": "code",
   "execution_count": 72,
   "outputs": [],
   "source": [
    "def plot_residual(regr: LinearRegression, x: np.ndarray, y: np.ndarray, title: str) -> None:\n",
    "    y_pred = regr.predict(x)\n",
    "    min_val = np.min(y) - 0.1\n",
    "    max_val = np.max(y) + 0.1\n",
    "\n",
    "    plt.hlines(0, min_val, max_val, color=\"red\")\n",
    "    plt.scatter(y, y_pred - y, color=\"blue\", s=7)\n",
    "    plt.title(title)\n",
    "    plt.show()"
   ],
   "metadata": {
    "collapsed": false,
    "pycharm": {
     "name": "#%%\n"
    }
   }
  },
  {
   "cell_type": "code",
   "execution_count": 73,
   "outputs": [
    {
     "data": {
      "text/plain": "<Figure size 432x288 with 1 Axes>",
      "image/png": "[encoded data removed]"
     },
     "metadata": {
      "needs_background": "light"
     },
     "output_type": "display_data"
    }
   ],
   "source": [
    "plot_residual(regr, x_train, y_train, title=\"Train Set\")"
   ],
   "metadata": {
    "collapsed": false,
    "pycharm": {
     "name": "#%%\n"
    }
   }
  },
  {
   "cell_type": "code",
   "execution_count": 74,
   "outputs": [
    {
     "data": {
      "text/plain": "<Figure size 432x288 with 1 Axes>",
      "image/png": "[encoded data removed]"
     },
     "metadata": {
      "needs_background": "light"
     },
     "output_type": "display_data"
    }
   ],
   "source": [
    "plot_residual(regr, x_test, y_test, title=\"Test Set\")"
   ],
   "metadata": {
    "collapsed": false,
    "pycharm": {
     "name": "#%%\n"
    }
   }
  }
 ],
 "metadata": {
  "kernelspec": {
   "display_name": "Python 3",
   "language": "python",
   "name": "python3"
  },
  "language_info": {
   "codemirror_mode": {
    "name": "ipython",
    "version": 3
   },
   "file_extension": ".py",
   "mimetype": "text/x-python",
   "name": "python",
   "nbconvert_exporter": "python",
   "pygments_lexer": "ipython3",
   "version": "3.9.7"
  }
 },
 "nbformat": 4,
 "nbformat_minor": 2
}