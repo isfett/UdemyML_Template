{
 "cells": [
  {
   "cell_type": "code",
   "execution_count": 153,
   "metadata": {
    "collapsed": true,
    "pycharm": {
     "name": "#%%\n"
    }
   },
   "outputs": [],
   "source": [
    "import numpy as np\n",
    "from sklearn import datasets\n",
    "\n",
    "np.random.seed(42)"
   ]
  },
  {
   "cell_type": "markdown",
   "source": [
    "### Dataset preparation"
   ],
   "metadata": {
    "collapsed": false,
    "pycharm": {
     "name": "#%% md\n"
    }
   }
  },
  {
   "cell_type": "code",
   "execution_count": 154,
   "outputs": [],
   "source": [
    "iris = datasets.load_iris()\n",
    "\n",
    "x = iris.data[:, :2] # [:, [0, 1]]\n",
    "y = iris.target\n",
    "\n",
    "class_names = iris.target_names\n",
    "\n",
    "description = iris.DESCR"
   ],
   "metadata": {
    "collapsed": false,
    "pycharm": {
     "name": "#%%\n"
    }
   }
  },
  {
   "cell_type": "code",
   "execution_count": 155,
   "outputs": [
    {
     "name": "stdout",
     "output_type": "stream",
     "text": [
      "class_names:\n",
      "['setosa' 'versicolor' 'virginica']\n",
      "description:\n",
      ".. _iris_dataset:\n",
      "\n",
      "Iris plants dataset\n",
      "--------------------\n",
      "\n",
      "**Data Set Characteristics:**\n",
      "\n",
      "    :Number of Instances: 150 (50 in each of three classes)\n",
      "    :Number of Attributes: 4 numeric, predictive attributes and the class\n",
      "    :Attribute Information:\n",
      "        - sepal length in cm\n",
      "        - sepal width in cm\n",
      "        - petal length in cm\n",
      "        - petal width in cm\n",
      "        - class:\n",
      "                - Iris-Setosa\n",
      "                - Iris-Versicolour\n",
      "                - Iris-Virginica\n",
      "                \n",
      "    :Summary Statistics:\n",
      "\n",
      "    ============== ==== ==== ======= ===== ====================\n",
      "                    Min  Max   Mean    SD   Class Correlation\n",
      "    ============== ==== ==== ======= ===== ====================\n",
      "    sepal length:   4.3  7.9   5.84   0.83    0.7826\n",
      "    sepal width:    2.0  4.4   3.05   0.43   -0.4194\n",
      "    petal length:   1.0  6.9   3.76   1.76    0.9490  (high!)\n",
      "    petal width:    0.1  2.5   1.20   0.76    0.9565  (high!)\n",
      "    ============== ==== ==== ======= ===== ====================\n",
      "\n",
      "    :Missing Attribute Values: None\n",
      "    :Class Distribution: 33.3% for each of 3 classes.\n",
      "    :Creator: R.A. Fisher\n",
      "    :Donor: Michael Marshall (MARSHALL%PLU@io.arc.nasa.gov)\n",
      "    :Date: July, 1988\n",
      "\n",
      "The famous Iris database, first used by Sir R.A. Fisher. The dataset is taken\n",
      "from Fisher's paper. Note that it's the same as in R, but not as in the UCI\n",
      "Machine Learning Repository, which has two wrong data points.\n",
      "\n",
      "This is perhaps the best known database to be found in the\n",
      "pattern recognition literature.  Fisher's paper is a classic in the field and\n",
      "is referenced frequently to this day.  (See Duda & Hart, for example.)  The\n",
      "data set contains 3 classes of 50 instances each, where each class refers to a\n",
      "type of iris plant.  One class is linearly separable from the other 2; the\n",
      "latter are NOT linearly separable from each other.\n",
      "\n",
      ".. topic:: References\n",
      "\n",
      "   - Fisher, R.A. \"The use of multiple measurements in taxonomic problems\"\n",
      "     Annual Eugenics, 7, Part II, 179-188 (1936); also in \"Contributions to\n",
      "     Mathematical Statistics\" (John Wiley, NY, 1950).\n",
      "   - Duda, R.O., & Hart, P.E. (1973) Pattern Classification and Scene Analysis.\n",
      "     (Q327.D83) John Wiley & Sons.  ISBN 0-471-22361-1.  See page 218.\n",
      "   - Dasarathy, B.V. (1980) \"Nosing Around the Neighborhood: A New System\n",
      "     Structure and Classification Rule for Recognition in Partially Exposed\n",
      "     Environments\".  IEEE Transactions on Pattern Analysis and Machine\n",
      "     Intelligence, Vol. PAMI-2, No. 1, 67-71.\n",
      "   - Gates, G.W. (1972) \"The Reduced Nearest Neighbor Rule\".  IEEE Transactions\n",
      "     on Information Theory, May 1972, 431-433.\n",
      "   - See also: 1988 MLC Proceedings, 54-64.  Cheeseman et al\"s AUTOCLASS II\n",
      "     conceptual clustering system finds 3 classes in the data.\n",
      "   - Many, many more ...\n"
     ]
    }
   ],
   "source": [
    "print(f\"class_names:\\n{class_names}\")\n",
    "print(f\"description:\\n{description}\")"
   ],
   "metadata": {
    "collapsed": false,
    "pycharm": {
     "name": "#%%\n"
    }
   }
  },
  {
   "cell_type": "code",
   "execution_count": 156,
   "outputs": [
    {
     "name": "stdout",
     "output_type": "stream",
     "text": [
      "x shape:\n",
      "(150, 2)\n",
      "y shape:\n",
      "(150,)\n",
      "x:\n",
      "[[5.1 3.5]\n",
      " [4.9 3. ]\n",
      " [4.7 3.2]\n",
      " [4.6 3.1]\n",
      " [5.  3.6]\n",
      " [5.4 3.9]\n",
      " [4.6 3.4]\n",
      " [5.  3.4]\n",
      " [4.4 2.9]\n",
      " [4.9 3.1]\n",
      " [5.4 3.7]\n",
      " [4.8 3.4]\n",
      " [4.8 3. ]\n",
      " [4.3 3. ]\n",
      " [5.8 4. ]\n",
      " [5.7 4.4]\n",
      " [5.4 3.9]\n",
      " [5.1 3.5]\n",
      " [5.7 3.8]\n",
      " [5.1 3.8]\n",
      " [5.4 3.4]\n",
      " [5.1 3.7]\n",
      " [4.6 3.6]\n",
      " [5.1 3.3]\n",
      " [4.8 3.4]\n",
      " [5.  3. ]\n",
      " [5.  3.4]\n",
      " [5.2 3.5]\n",
      " [5.2 3.4]\n",
      " [4.7 3.2]\n",
      " [4.8 3.1]\n",
      " [5.4 3.4]\n",
      " [5.2 4.1]\n",
      " [5.5 4.2]\n",
      " [4.9 3.1]\n",
      " [5.  3.2]\n",
      " [5.5 3.5]\n",
      " [4.9 3.6]\n",
      " [4.4 3. ]\n",
      " [5.1 3.4]\n",
      " [5.  3.5]\n",
      " [4.5 2.3]\n",
      " [4.4 3.2]\n",
      " [5.  3.5]\n",
      " [5.1 3.8]\n",
      " [4.8 3. ]\n",
      " [5.1 3.8]\n",
      " [4.6 3.2]\n",
      " [5.3 3.7]\n",
      " [5.  3.3]\n",
      " [7.  3.2]\n",
      " [6.4 3.2]\n",
      " [6.9 3.1]\n",
      " [5.5 2.3]\n",
      " [6.5 2.8]\n",
      " [5.7 2.8]\n",
      " [6.3 3.3]\n",
      " [4.9 2.4]\n",
      " [6.6 2.9]\n",
      " [5.2 2.7]\n",
      " [5.  2. ]\n",
      " [5.9 3. ]\n",
      " [6.  2.2]\n",
      " [6.1 2.9]\n",
      " [5.6 2.9]\n",
      " [6.7 3.1]\n",
      " [5.6 3. ]\n",
      " [5.8 2.7]\n",
      " [6.2 2.2]\n",
      " [5.6 2.5]\n",
      " [5.9 3.2]\n",
      " [6.1 2.8]\n",
      " [6.3 2.5]\n",
      " [6.1 2.8]\n",
      " [6.4 2.9]\n",
      " [6.6 3. ]\n",
      " [6.8 2.8]\n",
      " [6.7 3. ]\n",
      " [6.  2.9]\n",
      " [5.7 2.6]\n",
      " [5.5 2.4]\n",
      " [5.5 2.4]\n",
      " [5.8 2.7]\n",
      " [6.  2.7]\n",
      " [5.4 3. ]\n",
      " [6.  3.4]\n",
      " [6.7 3.1]\n",
      " [6.3 2.3]\n",
      " [5.6 3. ]\n",
      " [5.5 2.5]\n",
      " [5.5 2.6]\n",
      " [6.1 3. ]\n",
      " [5.8 2.6]\n",
      " [5.  2.3]\n",
      " [5.6 2.7]\n",
      " [5.7 3. ]\n",
      " [5.7 2.9]\n",
      " [6.2 2.9]\n",
      " [5.1 2.5]\n",
      " [5.7 2.8]\n",
      " [6.3 3.3]\n",
      " [5.8 2.7]\n",
      " [7.1 3. ]\n",
      " [6.3 2.9]\n",
      " [6.5 3. ]\n",
      " [7.6 3. ]\n",
      " [4.9 2.5]\n",
      " [7.3 2.9]\n",
      " [6.7 2.5]\n",
      " [7.2 3.6]\n",
      " [6.5 3.2]\n",
      " [6.4 2.7]\n",
      " [6.8 3. ]\n",
      " [5.7 2.5]\n",
      " [5.8 2.8]\n",
      " [6.4 3.2]\n",
      " [6.5 3. ]\n",
      " [7.7 3.8]\n",
      " [7.7 2.6]\n",
      " [6.  2.2]\n",
      " [6.9 3.2]\n",
      " [5.6 2.8]\n",
      " [7.7 2.8]\n",
      " [6.3 2.7]\n",
      " [6.7 3.3]\n",
      " [7.2 3.2]\n",
      " [6.2 2.8]\n",
      " [6.1 3. ]\n",
      " [6.4 2.8]\n",
      " [7.2 3. ]\n",
      " [7.4 2.8]\n",
      " [7.9 3.8]\n",
      " [6.4 2.8]\n",
      " [6.3 2.8]\n",
      " [6.1 2.6]\n",
      " [7.7 3. ]\n",
      " [6.3 3.4]\n",
      " [6.4 3.1]\n",
      " [6.  3. ]\n",
      " [6.9 3.1]\n",
      " [6.7 3.1]\n",
      " [6.9 3.1]\n",
      " [5.8 2.7]\n",
      " [6.8 3.2]\n",
      " [6.7 3.3]\n",
      " [6.7 3. ]\n",
      " [6.3 2.5]\n",
      " [6.5 3. ]\n",
      " [6.2 3.4]\n",
      " [5.9 3. ]]\n",
      "y:\n",
      "[0 0 0 0 0 0 0 0 0 0 0 0 0 0 0 0 0 0 0 0 0 0 0 0 0 0 0 0 0 0 0 0 0 0 0 0 0\n",
      " 0 0 0 0 0 0 0 0 0 0 0 0 0 1 1 1 1 1 1 1 1 1 1 1 1 1 1 1 1 1 1 1 1 1 1 1 1\n",
      " 1 1 1 1 1 1 1 1 1 1 1 1 1 1 1 1 1 1 1 1 1 1 1 1 1 1 2 2 2 2 2 2 2 2 2 2 2\n",
      " 2 2 2 2 2 2 2 2 2 2 2 2 2 2 2 2 2 2 2 2 2 2 2 2 2 2 2 2 2 2 2 2 2 2 2 2 2\n",
      " 2 2]\n"
     ]
    }
   ],
   "source": [
    "print(f\"x shape:\\n{x.shape}\")\n",
    "print(f\"y shape:\\n{y.shape}\")\n",
    "\n",
    "print(f\"x:\\n{x}\")\n",
    "print(f\"y:\\n{y}\")"
   ],
   "metadata": {
    "collapsed": false,
    "pycharm": {
     "name": "#%%\n"
    }
   }
  },
  {
   "cell_type": "markdown",
   "source": [
    "### Dataset Split\n",
    "\n",
    "Aufteilung in Training + Test-Set"
   ],
   "metadata": {
    "collapsed": false,
    "pycharm": {
     "name": "#%% md\n"
    }
   }
  },
  {
   "cell_type": "code",
   "execution_count": 157,
   "outputs": [
    {
     "name": "stdout",
     "output_type": "stream",
     "text": [
      "num_samples: 150\n",
      "num_features: 2\n",
      "num_classes: 3\n"
     ]
    }
   ],
   "source": [
    "num_samples = x.shape[0]\n",
    "num_features = x.shape[1]\n",
    "num_classes = len(class_names)\n",
    "\n",
    "print(f\"num_samples: {num_samples}\")\n",
    "print(f\"num_features: {num_features}\")\n",
    "print(f\"num_classes: {num_classes}\")"
   ],
   "metadata": {
    "collapsed": false,
    "pycharm": {
     "name": "#%%\n"
    }
   }
  },
  {
   "cell_type": "code",
   "execution_count": 158,
   "outputs": [],
   "source": [
    "test_size = num_samples // 3\n",
    "\n",
    "random_idxs = np.random.permutation(num_samples) # [0, num_samples - 1] 150 elements\n",
    "\n",
    "x_train = x[random_idxs[:-test_size]]\n",
    "y_train = y[random_idxs[:-test_size]]\n",
    "\n",
    "x_test = x[random_idxs[-test_size:]]\n",
    "y_test = y[random_idxs[-test_size:]]"
   ],
   "metadata": {
    "collapsed": false,
    "pycharm": {
     "name": "#%%\n"
    }
   }
  },
  {
   "cell_type": "code",
   "execution_count": 159,
   "outputs": [
    {
     "name": "stdout",
     "output_type": "stream",
     "text": [
      "x_train shape:\n",
      "(100, 2)\n",
      "y_train shape:\n",
      "(100,)\n",
      "x_test shape:\n",
      "(50, 2)\n",
      "y_test shape:\n",
      "(50,)\n"
     ]
    }
   ],
   "source": [
    "print(f\"x_train shape:\\n{x_train.shape}\")\n",
    "print(f\"y_train shape:\\n{y_train.shape}\")\n",
    "\n",
    "print(f\"x_test shape:\\n{x_test.shape}\")\n",
    "print(f\"y_test shape:\\n{y_test.shape}\")\n"
   ],
   "metadata": {
    "collapsed": false,
    "pycharm": {
     "name": "#%%\n"
    }
   }
  },
  {
   "cell_type": "markdown",
   "source": [
    "### KNN Model"
   ],
   "metadata": {
    "collapsed": false,
    "pycharm": {
     "name": "#%% md\n"
    }
   }
  },
  {
   "cell_type": "code",
   "execution_count": 160,
   "outputs": [
    {
     "name": "stdout",
     "output_type": "stream",
     "text": [
      "accuracy: 60.0%\n",
      "y_pred: \n",
      "[0 0 0 2 1 0 1 1 0 1 2 1 2 2 0 2 2 2 2 1 2 1 2 1 0 1 2 1 0 1 1 2 0 1 0 2 2\n",
      " 2 1 2 2 2 1 2 0 1 1 0 1 2]\n"
     ]
    }
   ],
   "source": [
    "from sklearn.neighbors import KNeighborsClassifier\n",
    "\n",
    "clf = KNeighborsClassifier(n_neighbors=3)\n",
    "clf.fit(x_train, y_train)\n",
    "\n",
    "accuracy = clf.score(x_test, y_test)\n",
    "print(f\"accuracy: {accuracy * 100.0}%\")\n",
    "\n",
    "y_pred = clf.predict(x_test)\n",
    "print(f\"y_pred: \\n{y_pred}\")"
   ],
   "metadata": {
    "collapsed": false,
    "pycharm": {
     "name": "#%%\n"
    }
   }
  },
  {
   "cell_type": "markdown",
   "source": [
    "### Try different hyperparameters"
   ],
   "metadata": {
    "collapsed": false,
    "pycharm": {
     "name": "#%% md\n"
    }
   }
  },
  {
   "cell_type": "code",
   "execution_count": 161,
   "outputs": [
    {
     "name": "stdout",
     "output_type": "stream",
     "text": [
      "Neighbors: 1 Weight: uniform Score: 0.7\n",
      "Neighbors: 1 Weight: distance Score: 0.7\n",
      "Neighbors: 2 Weight: uniform Score: 0.56\n",
      "Neighbors: 2 Weight: distance Score: 0.68\n",
      "Neighbors: 3 Weight: uniform Score: 0.6\n",
      "Neighbors: 3 Weight: distance Score: 0.58\n",
      "Neighbors: 4 Weight: uniform Score: 0.66\n",
      "Neighbors: 4 Weight: distance Score: 0.66\n",
      "Neighbors: 5 Weight: uniform Score: 0.68\n",
      "Neighbors: 5 Weight: distance Score: 0.62\n",
      "Neighbors: 6 Weight: uniform Score: 0.68\n",
      "Neighbors: 6 Weight: distance Score: 0.62\n",
      "Neighbors: 7 Weight: uniform Score: 0.72\n",
      "Neighbors: 7 Weight: distance Score: 0.66\n",
      "Neighbors: 8 Weight: uniform Score: 0.74\n",
      "Neighbors: 8 Weight: distance Score: 0.68\n",
      "Neighbors: 9 Weight: uniform Score: 0.74\n",
      "Neighbors: 9 Weight: distance Score: 0.72\n",
      "Neighbors: 10 Weight: uniform Score: 0.64\n",
      "Neighbors: 10 Weight: distance Score: 0.7\n"
     ]
    }
   ],
   "source": [
    "n_neighbors = [n_neighbor for n_neighbor in range(1,11)] # [1, 2, ..., 10]\n",
    "weight_modes = [\"uniform\", \"distance\"]\n",
    "\n",
    "# 10 x 2 = 20 Modelle\n",
    "for n_neighbor in n_neighbors:\n",
    "    for weight_mode in weight_modes:\n",
    "        clf = KNeighborsClassifier(n_neighbors=n_neighbor, weights=weight_mode)\n",
    "        clf.fit(x_train, y_train)\n",
    "\n",
    "        accuracy = clf.score(x_test, y_test)\n",
    "        print(f\"Neighbors: {n_neighbor} Weight: {weight_mode} Score: {accuracy:.4}\")\n"
   ],
   "metadata": {
    "collapsed": false,
    "pycharm": {
     "name": "#%%\n"
    }
   }
  },
  {
   "cell_type": "markdown",
   "source": [
    "###Best KNN Model"
   ],
   "metadata": {
    "collapsed": false,
    "pycharm": {
     "name": "#%% md\n"
    }
   }
  },
  {
   "cell_type": "code",
   "execution_count": 162,
   "outputs": [
    {
     "name": "stdout",
     "output_type": "stream",
     "text": [
      "accuracy: 74.0%\n",
      "y_pred: \n",
      "[0 0 0 2 1 0 1 2 0 1 2 2 2 1 0 2 1 2 1 1 1 0 1 1 0 1 2 2 0 1 2 2 0 1 0 2 2\n",
      " 2 1 2 2 2 1 1 0 1 0 0 1 2]\n",
      "y_pred_proba: \n",
      "[[1.    0.    0.   ]\n",
      " [1.    0.    0.   ]\n",
      " [1.    0.    0.   ]\n",
      " [0.    0.125 0.875]\n",
      " [0.    0.5   0.5  ]\n",
      " [1.    0.    0.   ]\n",
      " [0.    0.625 0.375]\n",
      " [0.    0.375 0.625]\n",
      " [1.    0.    0.   ]\n",
      " [0.    0.5   0.5  ]\n",
      " [0.    0.125 0.875]\n",
      " [0.    0.375 0.625]\n",
      " [0.    0.375 0.625]\n",
      " [0.    0.5   0.5  ]\n",
      " [1.    0.    0.   ]\n",
      " [0.    0.375 0.625]\n",
      " [0.    0.625 0.375]\n",
      " [0.    0.375 0.625]\n",
      " [0.    0.625 0.375]\n",
      " [0.125 0.875 0.   ]\n",
      " [0.    0.625 0.375]\n",
      " [0.625 0.375 0.   ]\n",
      " [0.    0.5   0.5  ]\n",
      " [0.    0.875 0.125]\n",
      " [1.    0.    0.   ]\n",
      " [0.    0.875 0.125]\n",
      " [0.    0.125 0.875]\n",
      " [0.    0.375 0.625]\n",
      " [1.    0.    0.   ]\n",
      " [0.125 0.875 0.   ]\n",
      " [0.    0.375 0.625]\n",
      " [0.    0.25  0.75 ]\n",
      " [1.    0.    0.   ]\n",
      " [0.    0.5   0.5  ]\n",
      " [1.    0.    0.   ]\n",
      " [0.    0.375 0.625]\n",
      " [0.    0.125 0.875]\n",
      " [0.    0.25  0.75 ]\n",
      " [0.    0.625 0.375]\n",
      " [0.    0.375 0.625]\n",
      " [0.    0.25  0.75 ]\n",
      " [0.    0.25  0.75 ]\n",
      " [0.    0.75  0.25 ]\n",
      " [0.    0.625 0.375]\n",
      " [1.    0.    0.   ]\n",
      " [0.    0.5   0.5  ]\n",
      " [0.5   0.5   0.   ]\n",
      " [1.    0.    0.   ]\n",
      " [0.    0.5   0.5  ]\n",
      " [0.    0.375 0.625]]\n"
     ]
    }
   ],
   "source": [
    "from sklearn.neighbors import KNeighborsClassifier\n",
    "\n",
    "clf = KNeighborsClassifier(n_neighbors=8, weights=\"uniform\")\n",
    "clf.fit(x_train, y_train)\n",
    "\n",
    "accuracy = clf.score(x_test, y_test)\n",
    "print(f\"accuracy: {accuracy * 100.0}%\")\n",
    "\n",
    "y_pred = clf.predict(x_test)\n",
    "print(f\"y_pred: \\n{y_pred}\")\n",
    "\n",
    "y_pred_proba = clf.predict_proba(x_test)\n",
    "print(f\"y_pred_proba: \\n{y_pred_proba}\")\n"
   ],
   "metadata": {
    "collapsed": false,
    "pycharm": {
     "name": "#%%\n"
    }
   }
  },
  {
   "cell_type": "markdown",
   "source": [
    "### Decision Border Plot"
   ],
   "metadata": {
    "collapsed": false,
    "pycharm": {
     "name": "#%% md\n"
    }
   }
  },
  {
   "cell_type": "code",
   "execution_count": 163,
   "outputs": [],
   "source": [
    "from typing import Any\n",
    "\n",
    "import matplotlib.pyplot as plt\n",
    "from matplotlib.colors import ListedColormap\n",
    "\n",
    "cmap_background = ListedColormap(colors=[\"#FFAAAA\", \"#AAAAFF\", \"#AAFFAA\"])\n",
    "\n",
    "cmap_points = [\n",
    "    \"red\",\n",
    "    \"blue\",\n",
    "    \"green\"\n",
    "]"
   ],
   "metadata": {
    "collapsed": false,
    "pycharm": {
     "name": "#%%\n"
    }
   }
  },
  {
   "cell_type": "code",
   "execution_count": 164,
   "outputs": [],
   "source": [
    "def make_meshgrid(x0: np.ndarray, x1: np.ndarray) -> np.ndarray:\n",
    "    step_width = 0.05\n",
    "    offset = 0.1\n",
    "    x0a = np.arange(np.min(x0) - offset, np.max(x0) + offset, step_width)\n",
    "    x1a = np.arange(np.min(x1) - offset, np.max(x1) + offset, step_width)\n",
    "    xx0, xx1 = np.meshgrid(x0a, x1a)\n",
    "    return xx0, xx1"
   ],
   "metadata": {
    "collapsed": false,
    "pycharm": {
     "name": "#%%\n"
    }
   }
  },
  {
   "cell_type": "code",
   "execution_count": 165,
   "outputs": [],
   "source": [
    "def plot_contours(axes: plt.Axes, clf: KNeighborsClassifier, xx0: np.ndarray, xx1: np.ndarray, **params: Any):\n",
    "    x_combinations = np.vstack([xx0.flatten(), xx1.flatten()]).transpose()\n",
    "    z = clf.predict(x_combinations)\n",
    "    z = np.reshape(z, newshape=(xx0.shape))\n",
    "    axes.contourf(xx0, xx1, z, **params)"
   ],
   "metadata": {
    "collapsed": false,
    "pycharm": {
     "name": "#%%\n"
    }
   }
  },
  {
   "cell_type": "code",
   "execution_count": 166,
   "outputs": [],
   "source": [
    "def plot_decision_border(clf: KNeighborsClassifier, x_train: np.ndarray, y_train: np.ndarray, x_test: np.ndarray, y_test: np.ndarray) -> None:\n",
    "    fig, axes = plt.subplots()\n",
    "    X0 = x_train[:, 0]\n",
    "    X1 = x_train[:, 1]\n",
    "    xx0, xx1 = make_meshgrid(X0, X1)\n",
    "    plot_contours(axes, clf, xx0, xx1, cmap=cmap_background, alpha=0.5)\n",
    "    for i, point in enumerate(x_train):\n",
    "        plt.scatter(x=point[0], y=point[1], color=cmap_points[y_train[i]], s=15, marker=\"o\")\n",
    "    for i, point in enumerate(x_test):\n",
    "        plt.scatter(x=point[0], y=point[1], color=cmap_points[y_test[i]], s=40, marker=\"*\")\n",
    "    plt.show()\n"
   ],
   "metadata": {
    "collapsed": false,
    "pycharm": {
     "name": "#%%\n"
    }
   }
  },
  {
   "cell_type": "code",
   "execution_count": 167,
   "outputs": [
    {
     "data": {
      "text/plain": "<Figure size 432x288 with 1 Axes>",
      "image/png": "[encoded data removed]"
     },
     "metadata": {
      "needs_background": "light"
     },
     "output_type": "display_data"
    }
   ],
   "source": [
    "plot_decision_border(clf, x_train, y_train, x_test, y_test)"
   ],
   "metadata": {
    "collapsed": false,
    "pycharm": {
     "name": "#%%\n"
    }
   }
  }
 ],
 "metadata": {
  "kernelspec": {
   "display_name": "Python 3",
   "language": "python",
   "name": "python3"
  },
  "language_info": {
   "codemirror_mode": {
    "name": "ipython",
    "version": 2
   },
   "file_extension": ".py",
   "mimetype": "text/x-python",
   "name": "python",
   "nbconvert_exporter": "python",
   "pygments_lexer": "ipython2",
   "version": "2.7.6"
  }
 },
 "nbformat": 4,
 "nbformat_minor": 0
}