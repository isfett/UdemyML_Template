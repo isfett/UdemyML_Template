{
 "cells": [
  {
   "cell_type": "markdown",
   "metadata": {
    "pycharm": {
     "name": "#%% md\n"
    }
   },
   "source": [
    "### K-Nearest Neighbor Algorithmus:\n",
    "\n",
    "#### Parameter:  \n",
    "\n",
    "dataset = (X, Y)  \n",
    "mit X := Features  \n",
    "und Y := Classes  \n",
    "\n",
    "K := Hyperparameter für die nächsten k Nachbarn  \n",
    "sample := Neuer Datenpunkt zum Klassifizieren \n",
    "\n",
    "#### Pseudo-Code:\n",
    "\n",
    "kNN (dataset, K, sample):  \n",
    "  - Bestimme von jedem Punkt $p \\in dataset$ die Distanz, mit der geg. Distanzfunktion.\n",
    "  - Bestimme die $K$ nächst gelegenen Nachbarn und bestimme die zugehörige Klasse von $sample$.  "
   ]
  },
  {
   "cell_type": "code",
   "execution_count": 100,
   "metadata": {
    "pycharm": {
     "name": "#%%\n"
    }
   },
   "outputs": [],
   "source": [
    "import numpy as np\n",
    "np.random.seed(42)"
   ]
  },
  {
   "cell_type": "code",
   "execution_count": 101,
   "metadata": {
    "pycharm": {
     "name": "#%%\n"
    }
   },
   "outputs": [],
   "source": [
    "def generate_dataset():\n",
    "    num_samples_class1 = 10\n",
    "    num_samples_class2 = 6\n",
    "    num_samples_class3 = 13\n",
    "    cov = np.array([[1, 0], [0, 1]])\n",
    "    data1 = np.random.multivariate_normal(\n",
    "        np.array([0, 0]), cov, num_samples_class1\n",
    "    )\n",
    "    data2 = np.random.multivariate_normal(\n",
    "        np.array([-10, 4]), cov, num_samples_class2\n",
    "    )\n",
    "    data3 = np.random.multivariate_normal(\n",
    "        np.array([10, 10]), cov, num_samples_class3\n",
    "    )\n",
    "    data = np.concatenate((data1, data2, data3), axis=0)\n",
    "    classes = np.array(\n",
    "        [0 for i in range(num_samples_class1)] +\n",
    "        [1 for i in range(num_samples_class2)] +\n",
    "        [2 for i in range(num_samples_class3)]\n",
    "    )\n",
    "    return data, classes"
   ]
  },
  {
   "cell_type": "code",
   "execution_count": 102,
   "metadata": {
    "pycharm": {
     "name": "#%%\n"
    }
   },
   "outputs": [],
   "source": [
    "x,y = generate_dataset()"
   ]
  },
  {
   "cell_type": "code",
   "execution_count": 103,
   "metadata": {
    "pycharm": {
     "name": "#%%\n"
    }
   },
   "outputs": [
    {
     "name": "stdout",
     "output_type": "stream",
     "text": [
      "x shape: (29, 2)\n",
      "y shape: (29,)\n",
      "x:\n",
      "[[  0.49671415  -0.1382643 ]\n",
      " [  0.64768854   1.52302986]\n",
      " [ -0.23415337  -0.23413696]\n",
      " [  1.57921282   0.76743473]\n",
      " [ -0.46947439   0.54256004]\n",
      " [ -0.46341769  -0.46572975]\n",
      " [  0.24196227  -1.91328024]\n",
      " [ -1.72491783  -0.56228753]\n",
      " [ -1.01283112   0.31424733]\n",
      " [ -0.90802408  -1.4123037 ]\n",
      " [ -8.53435123   3.7742237 ]\n",
      " [ -9.9324718    2.57525181]\n",
      " [-10.54438272   4.11092259]\n",
      " [-11.15099358   4.37569802]\n",
      " [-10.60063869   3.70830625]\n",
      " [-10.60170661   5.85227818]\n",
      " [  9.98650278   8.94228907]\n",
      " [ 10.82254491   8.77915635]\n",
      " [ 10.2088636    8.04032988]\n",
      " [  8.67181395  10.19686124]\n",
      " [ 10.73846658  10.17136828]\n",
      " [  9.88435172   9.6988963 ]\n",
      " [  8.52147801   9.28015579]\n",
      " [  9.53936123  11.05712223]\n",
      " [ 10.34361829   8.23695984]\n",
      " [ 10.32408397   9.61491772]\n",
      " [  9.323078    10.61167629]\n",
      " [ 11.03099952  10.93128012]\n",
      " [  9.16078248   9.69078762]]\n",
      "y:\n",
      "[0 0 0 0 0 0 0 0 0 0 1 1 1 1 1 1 2 2 2 2 2 2 2 2 2 2 2 2 2]\n"
     ]
    }
   ],
   "source": [
    "print(f\"x shape: {x.shape}\")\n",
    "print(f\"y shape: {y.shape}\")\n",
    "\n",
    "print(f\"x:\\n{x}\")\n",
    "print(f\"y:\\n{y}\")"
   ]
  },
  {
   "cell_type": "code",
   "execution_count": 104,
   "metadata": {
    "pycharm": {
     "name": "#%%\n"
    }
   },
   "outputs": [],
   "source": [
    "import matplotlib.pyplot as plt\n",
    "\n",
    "def plot_dataset(x, y):\n",
    "    colors = [\"red\", \"blue\", \"green\"]\n",
    "    for i, point in enumerate(x):\n",
    "        plt.scatter(point[0], point[1], color=colors[y[i]])\n",
    "    plt.xlabel(\"x1\")\n",
    "    plt.ylabel(\"x2\")\n",
    "    plt.show()"
   ]
  },
  {
   "cell_type": "code",
   "execution_count": 105,
   "outputs": [
    {
     "data": {
      "text/plain": "<Figure size 432x288 with 1 Axes>",
      "image/png": "[encoded data removed]"
     },
     "metadata": {
      "needs_background": "light"
     },
     "output_type": "display_data"
    }
   ],
   "source": [
    "plot_dataset(x, y)"
   ],
   "metadata": {
    "collapsed": false,
    "pycharm": {
     "name": "#%%\n"
    }
   }
  },
  {
   "cell_type": "markdown",
   "source": [
    "## KNN Implementation"
   ],
   "metadata": {
    "collapsed": false,
    "pycharm": {
     "name": "#%% md\n"
    }
   }
  },
  {
   "cell_type": "code",
   "execution_count": 106,
   "outputs": [],
   "source": [
    "class KNeighborClassifier:\n",
    "    def __init__(self, n_neighbors: int = 5):\n",
    "        self.n_neighbors = n_neighbors\n",
    "        self.X: np.ndarray\n",
    "        self.y: np.ndarray\n",
    "        self.num_classes: int\n",
    "\n",
    "\n",
    "    def _distance(self, p1: np.ndarray, p2: np.ndarray):\n",
    "        return np.linalg.norm(p1 - p2)\n",
    "\n",
    "\n",
    "    def kneighbors(self, X: np.ndarray):\n",
    "        distances = np.array([[self._distance(sample, x_i) for x_i in self.X] for sample in X])\n",
    "        sorted_distances_idxs = np.argsort(distances[:])\n",
    "        kneighbors_idxs = sorted_distances_idxs[:, 0:self.n_neighbors]\n",
    "        return kneighbors_idxs\n",
    "\n",
    "\n",
    "    def fit(self, X: np.ndarray, y: np.ndarray):\n",
    "        self.X = X\n",
    "        self.y = y\n",
    "        self.num_classes = len(np.unique(self.y))\n",
    "\n",
    "\n",
    "    def _vote_class(self, kneighbors_idxs: np.ndarray):\n",
    "        votes = np.zeros(shape=(self.num_classes))\n",
    "        neighbors_classes = self.y[kneighbors_idxs]\n",
    "        for neighbor_class in neighbors_classes:\n",
    "            votes[neighbor_class] += 1\n",
    "        voted_class = np.argmax(votes)\n",
    "        #print(neighbors_classes, votes, voted_class)\n",
    "        return voted_class\n",
    "\n",
    "\n",
    "    def predict(self, X: np.ndarray):\n",
    "        kneighbors_idxs = self.kneighbors(X)\n",
    "        y_pred = np.array([self._vote_class(kneighbor_idxs) for kneighbor_idxs in kneighbors_idxs])\n",
    "        return y_pred\n",
    "\n",
    "\n",
    "    def score(self, X: np.ndarray, y: np.ndarray):\n",
    "        y_pred = self.predict(X)\n",
    "        #accurary = np.sum(y_pred == y) / len(y)\n",
    "        accuary = np.mean(y_pred == y)\n",
    "        return accuary"
   ],
   "metadata": {
    "collapsed": false,
    "pycharm": {
     "name": "#%%\n"
    }
   }
  },
  {
   "cell_type": "code",
   "execution_count": 107,
   "outputs": [
    {
     "name": "stdout",
     "output_type": "stream",
     "text": [
      "x_test:\n",
      " [[ 0.  4.]\n",
      " [-5.  4.]]\n",
      "y_test:\n",
      " [0 1]\n",
      "y_pred:\n",
      " [0 1]\n",
      "score: 1.0\n"
     ]
    }
   ],
   "source": [
    "x_test = np.array(\n",
    "    [[0.0, 4.0],\n",
    "    [-5.0, 4.0]]\n",
    ")\n",
    "y_test = np.array([0, 1])\n",
    "\n",
    "clf = KNeighborClassifier(n_neighbors=3)\n",
    "clf.fit(x, y)\n",
    "\n",
    "y_pred = clf.predict(x_test)\n",
    "accurary = clf.score(x_test, y_test)\n",
    "\n",
    "print(f\"x_test:\\n {x_test}\")\n",
    "print(f\"y_test:\\n {y_test}\")\n",
    "print(f\"y_pred:\\n {y_pred}\")\n",
    "print(f\"score: {accurary}\")"
   ],
   "metadata": {
    "collapsed": false,
    "pycharm": {
     "name": "#%%\n"
    }
   }
  },
  {
   "cell_type": "code",
   "execution_count": 108,
   "outputs": [],
   "source": [
    "def plot_knn_prediction(clf: KNeighborClassifier, X_samples: np.ndarray, y_pred: np.ndarray, X: np.ndarray, y: np.ndarray):\n",
    "    colors = [\"red\", \"blue\", \"green\"]\n",
    "    for i, point in enumerate(X):\n",
    "        plt.scatter(point[0], point[1], color=colors[y[i]])\n",
    "    neighbors_idxs = clf.kneighbors(X_samples)\n",
    "    for i, point in enumerate(X_samples):\n",
    "        neighbors_points = clf.X[neighbors_idxs][i]\n",
    "        neighbors_classes = clf.y[neighbors_idxs][i]\n",
    "        plt.scatter(point[0], point[1], color=colors[y_pred[i]], marker=\"*\", s=120)\n",
    "        for neighbor_point, neighbor_class in zip(neighbors_points, neighbors_classes):\n",
    "            plt.plot((neighbor_point[0], point[0]), (neighbor_point[1], point[1]), color=colors[neighbor_class])\n",
    "    plt.xlabel(\"x1\")\n",
    "    plt.ylabel(\"x2\")\n",
    "    plt.show()"
   ],
   "metadata": {
    "collapsed": false,
    "pycharm": {
     "name": "#%%\n"
    }
   }
  },
  {
   "cell_type": "code",
   "execution_count": 109,
   "outputs": [
    {
     "data": {
      "text/plain": "<Figure size 432x288 with 1 Axes>",
      "image/png": "[encoded data removed]"
     },
     "metadata": {
      "needs_background": "light"
     },
     "output_type": "display_data"
    }
   ],
   "source": [
    "plot_knn_prediction(clf, x_test, y_pred, x, y)"
   ],
   "metadata": {
    "collapsed": false,
    "pycharm": {
     "name": "#%%\n"
    }
   }
  }
 ],
 "metadata": {
  "kernelspec": {
   "display_name": "Python 3 (ipykernel)",
   "language": "python",
   "name": "python3"
  },
  "language_info": {
   "codemirror_mode": {
    "name": "ipython",
    "version": 3
   },
   "file_extension": ".py",
   "mimetype": "text/x-python",
   "name": "python",
   "nbconvert_exporter": "python",
   "pygments_lexer": "ipython3",
   "version": "3.10.4"
  }
 },
 "nbformat": 4,
 "nbformat_minor": 2
}